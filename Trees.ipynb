{
 "cells": [
  {
   "cell_type": "markdown",
   "metadata": {},
   "source": [
    "Trees\n",
    "=====\n",
    "\n",
    "Introduction\n",
    "------------\n",
    "\n",
    "Trees are a fundamental data type in computer science.\n",
    "\n",
    "*How have you used trees in your previous work?*\n",
    "\n",
    "Here we'll look at a basic Python implementation for a binary tree (trees where there are at most two children per node)."
   ]
  },
  {
   "cell_type": "markdown",
   "metadata": {},
   "source": [
    "Nodes and Edges\n",
    "---------------\n",
    "\n",
    "Trees are made up of nodes (also called verticies) and edges, which link from one node to another.  An important part of the definition of a tree is that it does not have any cycles: if you continue to follow edges of child nodes you will never return to previously visited nodes.\n",
    "\n",
    "In our example, a node has some data, a reference to a left node (which may be `None`) and a reference to a right node (which may be `None`)."
   ]
  },
  {
   "cell_type": "code",
   "execution_count": 1,
   "metadata": {
    "collapsed": true
   },
   "outputs": [],
   "source": [
    "class Node:\n",
    "    def __init__(self, data, left=None, right=None):\n",
    "        self.data = data\n",
    "        self.left = left\n",
    "        self.right = right"
   ]
  },
  {
   "cell_type": "markdown",
   "metadata": {},
   "source": [
    "With the following statement we can create a new node, which has the data 'b' and does not have any children:"
   ]
  },
  {
   "cell_type": "code",
   "execution_count": 2,
   "metadata": {
    "collapsed": true
   },
   "outputs": [],
   "source": [
    "b = Node('b', None, None)"
   ]
  },
  {
   "cell_type": "markdown",
   "metadata": {},
   "source": [
    "Given the [default parameters] for the left and right children are `None`, it's not necessary to pass `None` as arguments.  Thus we can create a node 'c' more easily:\n",
    "\n",
    "  [default parameters]: http://effbot.org/zone/default-values.htm"
   ]
  },
  {
   "cell_type": "code",
   "execution_count": 3,
   "metadata": {
    "collapsed": true
   },
   "outputs": [],
   "source": [
    "c = Node('c')"
   ]
  },
  {
   "cell_type": "markdown",
   "metadata": {},
   "source": [
    "We can also produce a node with children, by referencing our previously created nodes:"
   ]
  },
  {
   "cell_type": "code",
   "execution_count": 4,
   "metadata": {
    "collapsed": false
   },
   "outputs": [],
   "source": [
    "a = Node('a', b, c)"
   ]
  },
  {
   "cell_type": "markdown",
   "metadata": {},
   "source": [
    "Thus, we've now produced our first tree.  It looks like:\n",
    "<pre>\n",
    "    a\n",
    "   / \\\n",
    "  b   c\n",
    "</pre>\n",
    "\n",
    "There is some vocabulary that will be useful:\n",
    "* **root** The root of the tree is the top of the tree (in computer science trees are drawn upside-down ;o)  In our example, the root is 'a'.\n",
    "* **leaf** A leaf in a tree is a node without any children.  In our example there are two leaves, 'b' and 'c'."
   ]
  },
  {
   "cell_type": "markdown",
   "metadata": {},
   "source": [
    "**Exercise**\n",
    "\n",
    "How could we create the following tree?\n",
    "<pre>\n",
    "             pet\n",
    "            /   \\\n",
    "          dog   cat\n",
    "          / \\\n",
    "   labrador  husky\n",
    "</pre>\n",
    "\n",
    "Write python code in the following cell to create this new structure.  \n",
    "\n",
    "*Click in the box below to begin editing, press Shift-Enter to execute your code.*"
   ]
  },
  {
   "cell_type": "code",
   "execution_count": 5,
   "metadata": {
    "collapsed": false
   },
   "outputs": [],
   "source": [
    "# Exercise: Add code here to create the \"pet\" tree.  Press Shift-Enter to execute it."
   ]
  },
  {
   "cell_type": "markdown",
   "metadata": {},
   "source": [
    "Traversals\n",
    "==========\n",
    "\n",
    "Let's say we wished to count the number of nodes in our tree.  To do this we'd need to visit them all.  We're going to look at two ways to visit nodes in a tree, breadth first and depth first.\n",
    "\n",
    "### Breadth-First Tree Traversal\n",
    "\n",
    "In Breadth-First Traversal, we start at the root of the tree.  We then visit all the nodes below that node (from left to right) and then we keep visiting nodes, layer by layer, until we have visited all of the leaves.\n",
    "\n",
    "To implement this we'll use a queue.  We'll start with the queue containing only the root node.  Then we'll go through the queue until it's empty.  Each time we take a node from the front of the queue, we'll process it and then we'll place the node's children at the back of the queue.\n",
    "\n",
    "Such a queue (called a FIFO queue, for \"First In First Out\") can be found in Python in the `deque` class, located in the `collections` module.  \"Deque\", pronounced \"deck\", and stands for \"double-ended queue\".  For more information about the class, see the [associated Python documentation][deque].\n",
    "\n",
    "  [deque]: [https://docs.python.org/2/library/collections.html#collections.deque]"
   ]
  },
  {
   "cell_type": "code",
   "execution_count": 6,
   "metadata": {
    "collapsed": false
   },
   "outputs": [],
   "source": [
    "from collections import deque\n",
    "\n",
    "def breadthFirstTreeTraversal(root):\n",
    "    # Initialse a queue containing the root node\n",
    "    queue = deque([root])\n",
    "    \n",
    "    # Go through the queue until it's empty\n",
    "    while queue:\n",
    "        # Get the node at the front of the queue (the left side) and process it\n",
    "        node = queue.popleft()\n",
    "        print(\"Visiting node \"+node.data)\n",
    "        \n",
    "        # Add the node's children to the end of the queue (the right side)\n",
    "        if node.left is not None:\n",
    "            queue.append(node.left)\n",
    "        if node.right is not None:\n",
    "            queue.append(node.right)        "
   ]
  },
  {
   "cell_type": "markdown",
   "metadata": {},
   "source": [
    "Let's see what happens when we run our function on the original tree.  The results of running the function are displayed below the cell's code."
   ]
  },
  {
   "cell_type": "code",
   "execution_count": 7,
   "metadata": {
    "collapsed": false
   },
   "outputs": [
    {
     "name": "stdout",
     "output_type": "stream",
     "text": [
      "Visiting node a\n",
      "Visiting node b\n",
      "Visiting node c\n"
     ]
    }
   ],
   "source": [
    "breadthFirstTreeTraversal(a)"
   ]
  },
  {
   "cell_type": "markdown",
   "metadata": {},
   "source": [
    "**Exercises** \n",
    "\n",
    "- Run the code on the \"pet\" tree you created earlier.  Are the results as you expected?  \n",
    "\n",
    "- How would you modify `breadthFirstTreeTraversal()` so that it returns the number of nodes that it visited?\n",
    "\n",
    "- The version of `breadthFirstTreeTraversal()` above is an example of a pre-order traversal.  How would you modify the function to produce an in-order and a post-order traversal?"
   ]
  },
  {
   "cell_type": "code",
   "execution_count": 8,
   "metadata": {
    "collapsed": false
   },
   "outputs": [
    {
     "name": "stdout",
     "output_type": "stream",
     "text": [
      "Visiting node pet\n",
      "Visiting node dog\n",
      "Visiting node cat\n",
      "Visiting node labrador\n",
      "Visiting node husky\n"
     ]
    }
   ],
   "source": [
    "# Exercise: Apply breadth-first traversal to your \"pet\" tree\n",
    "breadthFirstTreeTraversal(pet)"
   ]
  },
  {
   "cell_type": "markdown",
   "metadata": {},
   "source": [
    "### Depth-First Tree Traversal\n",
    "\n",
    "Another approach to traversing a tree is to follow the children of a node, and then that node's children, and so on.  This process is called a depth-first traversal.\n",
    "\n",
    "There are two standard implementation approaches.  One, using a recursive approach, and the second using a stack (a \"LIFO\", or Last In First Out).  \n",
    "\n",
    "In fact, if we take our Breadth-First implementation and replace the use of a queue with a stack, we produce a depth-first traversal.  In Python a [stack can be implemented as a list][stacks-as-lists].\n",
    "\n",
    "  [stacks-as-lists]: https://docs.python.org/3/tutorial/datastructures.html#using-lists-as-stacks"
   ]
  },
  {
   "cell_type": "code",
   "execution_count": 9,
   "metadata": {
    "collapsed": true
   },
   "outputs": [],
   "source": [
    "def depthFirstTreeTraversal(root):\n",
    "    # Initialse a stack containing the root node\n",
    "    stack = list([root])\n",
    "    \n",
    "    # Go through the queue until it's empty\n",
    "    while stack:\n",
    "        # Get the node at the top of the stack and process it\n",
    "        node = stack.pop()\n",
    "        print(\"Visiting node \"+node.data)\n",
    "        \n",
    "        # Add the node's children to the top of the stack\n",
    "        if node.right is not None:\n",
    "            stack.append(node.right)        \n",
    "        if node.left is not None:\n",
    "            stack.append(node.left)            "
   ]
  },
  {
   "cell_type": "markdown",
   "metadata": {},
   "source": [
    "We can now apply our `depthFirstTreeTraversal()` to our original tree:"
   ]
  },
  {
   "cell_type": "code",
   "execution_count": 10,
   "metadata": {
    "collapsed": false
   },
   "outputs": [
    {
     "name": "stdout",
     "output_type": "stream",
     "text": [
      "Visiting node a\n",
      "Visiting node b\n",
      "Visiting node c\n"
     ]
    }
   ],
   "source": [
    "depthFirstTreeTraversal(a)"
   ]
  },
  {
   "cell_type": "markdown",
   "metadata": {},
   "source": [
    "**Exercises**\n",
    "\n",
    "- This output is identical to that of `breadthFirstTreeTraversal()`.  What happens when you apply `depthFirstTreeTraversal()` to your \"pet\" tree?\n",
    "- How could you write a recursive version of depth-first tree traversal?\n",
    "- How would you modify the definiton of the `Node` class and the definition of the traversal functions if the trees had more than just two edges per node?"
   ]
  }
 ],
 "metadata": {
  "kernelspec": {
   "display_name": "Python 3",
   "language": "python",
   "name": "python3"
  },
  "language_info": {
   "codemirror_mode": {
    "name": "ipython",
    "version": 3
   },
   "file_extension": ".py",
   "mimetype": "text/x-python",
   "name": "python",
   "nbconvert_exporter": "python",
   "pygments_lexer": "ipython3",
   "version": "3.5.1"
  }
 },
 "nbformat": 4,
 "nbformat_minor": 0
}
