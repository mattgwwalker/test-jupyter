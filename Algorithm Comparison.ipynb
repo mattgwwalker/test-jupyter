{
 "cells": [
  {
   "cell_type": "markdown",
   "metadata": {},
   "source": [
    "Algorithm Comparison\n",
    "====================\n",
    "\n",
    "We have so far looked at breadth-first and depth-first tree traversal and how they can be modified to become graph traversal algorithms.  We have also looked at converting those two techniques into search algorithms.  However, how should we decide to chose between breadth-first and depth-first searches?\n",
    "\n",
    "There are four attributes of a search technique:\n",
    "- Completeness: is the algorithm guaranteed to find a solution?\n",
    "- Optimality: will the algorithm find the path with the lowest cost?\n",
    "- Time Complexity: how long will the algorithm take?\n",
    "- Space Complexity: how much memory will the algorithm require?\n",
    "\n",
    "For breadth-first search:\n",
    "- Completeness: the algorithm will certainly find a solution, so long as no node's branching factor is infinite, and so long as the goal state is at a finite depth---breadth-first search will eventally find the goal\n",
    "- Optimality: breadth-first search will find the shallowest solution (in terms of the number of decisions from the start state), but the shallowest solution is not necessary optimal.  Breadth-first search finds the optimal solution only if the path cost is a non-decreasing function of the depth of the node (AIMA, page 84).  This is the case, for example, if all edges have a cost of one.\n",
    "\n",
    "Time Complexity\n",
    "---------------\n",
    "In computer science, graph algorithms are typically compared using the number of verticies (nodes) and the number of edges in the graph.  In AI, the graph is often not explicit (rather, it's defined by the states, actions, and how an agent can travel from state to state) and often the implict graph is infinite.  For this reason, complexity is measured in terms of **branching factors** ($b$), **depth** of the shallowest goal node ($d$), and the maximum length of any path in the state space ($m$).\n",
    "\n",
    "Time complexity is measured in terms of the number of nodes generated during search.\n",
    "\n",
    "For breadth-first search, we first consider the branching factor at the start node.  This generates $b$ nodes.  The next layer generates $b\\cdot b = b^2$ nodes.  The next layer generates $b^3$ nodes, and so on until we get to layer $d$ where we have found our shallowest goal.  Thus, the time complexity of breadth-first search is\n",
    "\n",
    "$b + b^2 + b^3 + \\dots + b^d = O(b^d)$\n",
    "\n",
    "** Exercise **\n",
    "- Read about [Big O notation][big-o] if you're not sure about the stuff to the right of the equals sign on that last line\n",
    "\n",
    "  [big-o]: (https://www.khanacademy.org/computing/computer-science/algorithms/asymptotic-notation/a/big-o-notation)\n",
    "  \n",
    "Space Complexity\n",
    "----------------\n",
    "\n",
    "Space complexity is measured in terms of the number of nodes stored in memory during search.\n",
    "\n",
    "There will be $O(b^{d-1})$ nodes stored in the explored set.  But there will be $O(b^d)$ nodes in the frontier set.  Thus, the frontier set dominates, and we conclude that the space complexity for breadth-first search is $O(b^d)$.\n",
    "\n",
    "** Exercise **\n",
    "- How do the time and space complexities of breadth-first search make you feel?  When would the algorithms be appropriate?  When should they be avoided?\n"
   ]
  },
  {
   "cell_type": "code",
   "execution_count": null,
   "metadata": {
    "collapsed": true
   },
   "outputs": [],
   "source": []
  }
 ],
 "metadata": {
  "kernelspec": {
   "display_name": "Python 3",
   "language": "python",
   "name": "python3"
  },
  "language_info": {
   "codemirror_mode": {
    "name": "ipython",
    "version": 3
   },
   "file_extension": ".py",
   "mimetype": "text/x-python",
   "name": "python",
   "nbconvert_exporter": "python",
   "pygments_lexer": "ipython3",
   "version": "3.5.1"
  }
 },
 "nbformat": 4,
 "nbformat_minor": 0
}
