{
 "cells": [
  {
   "cell_type": "markdown",
   "metadata": {},
   "source": [
    "Artificial Intelligence and Machine Learning \n",
    "============================================\n",
    "\n",
    "Introduction\n",
    "------------\n",
    "- [Introduction to AI](https://vimeo.com/170189199)\n",
    "- [Python for Developers](http://ricardoduarte.github.io/python-for-developers/)\n",
    "\n",
    "\n",
    "\n",
    "Search\n",
    "------\n",
    "\n",
    "- [Trees](trees.ipynb)\n",
    "- [Graphs](graphs.ipynb)\n",
    "- [Uninformed Search](uninformed search.ipynb)\n",
    "  - [Breadth-First Graph Search](breadth-first graph search.ipynb)\n",
    "- [Algorithm Comparison](algorithm comparison.ipynb)\n",
    "- Uninformed Search Continued\n",
    "  - [Uniform Cost Search](uniform cost search.ipynb)\n",
    "  - [Depth-First Search](depth-first search.ipynb)\n",
    "  - [Depth-Limited Search](depth-limited search.ipynb)\n",
    "  - [Iterative Deepening Search](iterative deepening search.ipynb)\n"
   ]
  }
 ],
 "metadata": {
  "kernelspec": {
   "display_name": "Python 3",
   "language": "python",
   "name": "python3"
  },
  "language_info": {
   "codemirror_mode": {
    "name": "ipython",
    "version": 3
   },
   "file_extension": ".py",
   "mimetype": "text/x-python",
   "name": "python",
   "nbconvert_exporter": "python",
   "pygments_lexer": "ipython3",
   "version": "3.5.1"
  }
 },
 "nbformat": 4,
 "nbformat_minor": 0
}
