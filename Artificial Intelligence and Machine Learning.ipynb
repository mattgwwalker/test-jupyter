{
 "cells": [
  {
   "cell_type": "markdown",
   "metadata": {},
   "source": [
    "Artificial Intelligence and Machine Learning \n",
    "============================================\n",
    "\n",
    "Introduction\n",
    "------------\n",
    "- [Introduction to AI](https://vimeo.com/170189199)\n",
    "- [Python for Developers](http://ricardoduarte.github.io/python-for-developers/)\n",
    "\n",
    "\n",
    "\n",
    "Search\n",
    "------\n",
    "\n",
    "- [Trees](Trees.ipynb)\n",
    "- [Graphs](Graphs.ipynb)\n",
    "- [Uninformed Search](Uninformed Search.ipynb)\n",
    "  - [Breadth-First Graph Search](Breadth-First Graph Search.ipynb)\n",
    "- [Algorithm Comparison](Algorithm Comparison.ipynb)\n",
    "- Uninformed Search Continued\n",
    "  - [Uniform Cost Search](Uniform Cost Search.ipynb)\n",
    "  - [Depth-First Search](Depth-First Search.ipynb)\n",
    "  - [Depth-Limited Search](Depth-Limited Search.ipynb)\n",
    "  - [Iterative Deepening Search](Iterative Deepening Search.ipynb)\n"
   ]
  },
  {
   "cell_type": "code",
   "execution_count": null,
   "metadata": {
    "collapsed": true
   },
   "outputs": [],
   "source": []
  }
 ],
 "metadata": {
  "kernelspec": {
   "display_name": "Python 3",
   "language": "python",
   "name": "python3"
  },
  "language_info": {
   "codemirror_mode": {
    "name": "ipython",
    "version": 3
   },
   "file_extension": ".py",
   "mimetype": "text/x-python",
   "name": "python",
   "nbconvert_exporter": "python",
   "pygments_lexer": "ipython3",
   "version": "3.5.1"
  }
 },
 "nbformat": 4,
 "nbformat_minor": 0
}
