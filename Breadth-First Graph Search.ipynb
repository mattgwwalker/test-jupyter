{
 "cells": [
  {
   "cell_type": "markdown",
   "metadata": {},
   "source": [
    "Breadth-First Graph Search\n",
    "==========================\n",
    "\n",
    "If we are interested in searching for plans to go from an initial state to a goal state, thus the result of our search should be a list of choices that, starting from our inital state, will lead us to our goal.  This can be seen as a search through a tree of choices.\n",
    "\n",
    "We can modify our `breadthFirstGraphTraversal()` to solve this.\n",
    "\n",
    "Continuing with our Romanian example, `breadthFirstGraphSearch(\"Arad\", \"Bucharest\")` should tell us what choices to make to get to Bucharest if we start at Arad.  Ideally, it will pick the shortest possible route.\n",
    "\n"
   ]
  },
  {
   "cell_type": "code",
   "execution_count": 1,
   "metadata": {
    "collapsed": false
   },
   "outputs": [],
   "source": [
    "from collections import deque\n",
    "\n",
    "def breadthFirstGraphSearch(start, goal):\n",
    "    # Initialise a queue containing the start node; these nodes represent the \"frontier\" of our search\n",
    "    frontier = deque([start])\n",
    "    \n",
    "    # Initialise a matching queue to keep the list of choices leading up to the frontier; we start with\n",
    "    # having made no choices so far\n",
    "    solutions = deque([list()])\n",
    "    \n",
    "    # Initialise an explored set; we haven't explored anything so far\n",
    "    explored = set()\n",
    "    \n",
    "    # Go through the frontier queue until it's empty\n",
    "    while frontier:\n",
    "        # Get the node at the front of the queue (the left side) and process it\n",
    "        node = frontier.popleft()\n",
    "        solution = solutions.popleft()\n",
    "        print(\"Visiting node \"+node.data)\n",
    "        \n",
    "        # Add the node to the explored set\n",
    "        explored.add(node)\n",
    "        \n",
    "        # Add the node's children (from left to right) to the end of the queue (the right side)\n",
    "        for road in node.connections:\n",
    "            destination = road.destination\n",
    "            if destination not in explored and destination not in frontier:\n",
    "                # Create a new solution by appending the choice to take this destination\n",
    "                newSolution = list(solution)\n",
    "                newSolution.append(destination.data)\n",
    "                # If this destination is the goal, return our newly found solution\n",
    "                if destination == goal: return newSolution\n",
    "                # Otherwise, append this destination to our frontier and append the associated solution\n",
    "                # to solutions\n",
    "                frontier.append(road.destination)\n",
    "                solutions.append(newSolution)\n",
    "    \n",
    "    # We've failed to find the goal\n",
    "    return None"
   ]
  },
  {
   "cell_type": "code",
   "execution_count": 3,
   "metadata": {
    "collapsed": false
   },
   "outputs": [
    {
     "name": "stdout",
     "output_type": "stream",
     "text": [
      "Visiting node Arad\n",
      "Visiting node Zerind\n",
      "Visiting node Timisoara\n",
      "Visiting node Sibiu\n",
      "Visiting node Oradea\n",
      "Visiting node Lugoj\n",
      "Visiting node Fagaras\n"
     ]
    },
    {
     "data": {
      "text/plain": [
       "['Sibiu', 'Fagaras', 'Bucharest']"
      ]
     },
     "execution_count": 3,
     "metadata": {},
     "output_type": "execute_result"
    }
   ],
   "source": [
    "import romania\n",
    "\n",
    "arad = romania.cities[\"Arad\"]\n",
    "bucharest = romania.cities[\"Bucharest\"]\n",
    "breadthFirstGraphSearch(arad, bucharest)"
   ]
  },
  {
   "cell_type": "markdown",
   "metadata": {},
   "source": [
    "** Exercises **\n",
    "- What does this output mean?  How should it be interpreted?\n",
    "- This code returns a solution, however it does not take into account the length of the roads.  This is called the path cost.  Effectively, we've assumed that the path cost is one per edge.  How could this code be modified to include the length of the roads between cities?"
   ]
  },
  {
   "cell_type": "code",
   "execution_count": null,
   "metadata": {
    "collapsed": true
   },
   "outputs": [],
   "source": []
  }
 ],
 "metadata": {
  "kernelspec": {
   "display_name": "Python 3",
   "language": "python",
   "name": "python3"
  },
  "language_info": {
   "codemirror_mode": {
    "name": "ipython",
    "version": 3
   },
   "file_extension": ".py",
   "mimetype": "text/x-python",
   "name": "python",
   "nbconvert_exporter": "python",
   "pygments_lexer": "ipython3",
   "version": "3.5.1"
  }
 },
 "nbformat": 4,
 "nbformat_minor": 0
}
