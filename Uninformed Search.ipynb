{
 "cells": [
  {
   "cell_type": "markdown",
   "metadata": {},
   "source": [
    "Uninformed Search\n",
    "=================\n",
    "\n",
    "We have looked at two graph traversal algorithms, breadth-first and depth-first.  We are now going to look at how these can be modified to produce a search function.\n",
    "\n",
    "We are interested in searching for plans to go from an initial state to a goal state, thus the result of our search should be a list of choices that, starting from our inital state, will lead us to our goal.  This can be seen as a search through a tree of choices.\n",
    "\n",
    "If we know nothing more about the system other than the fact that \"there are choices\", searching through those options is called uninformed search.  The alternative is informed search, which we will consider later."
   ]
  },
  {
   "cell_type": "code",
   "execution_count": null,
   "metadata": {
    "collapsed": true
   },
   "outputs": [],
   "source": []
  }
 ],
 "metadata": {
  "kernelspec": {
   "display_name": "Python 3",
   "language": "python",
   "name": "python3"
  },
  "language_info": {
   "codemirror_mode": {
    "name": "ipython",
    "version": 3
   },
   "file_extension": ".py",
   "mimetype": "text/x-python",
   "name": "python",
   "nbconvert_exporter": "python",
   "pygments_lexer": "ipython3",
   "version": "3.5.1"
  }
 },
 "nbformat": 4,
 "nbformat_minor": 0
}
