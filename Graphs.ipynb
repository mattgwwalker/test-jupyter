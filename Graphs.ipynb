{
 "cells": [
  {
   "cell_type": "markdown",
   "metadata": {},
   "source": [
    "Graphs\n",
    "======\n",
    "\n",
    "Introduction\n",
    "------------\n",
    "\n",
    "Graphs are another very useful data structure in computer science.  They're highly related to trees.  Indeed, trees are just a subset of graphs.\n",
    "\n",
    "A graph is a collection of nodes and edges linking those nodes.  If the edges have a direction (as in node A connects to node B, which might represent that you can fly from Auckland to Wellington) then the graph is directed.  Unlike with trees, cycles are possible in graphs.  (An example of a cycle could be that you could fly from Auckland to Wellington to Christchurch and then *back to* Auckland.)\n",
    "\n",
    "*What experiences have you had using graphs?*\n",
    "\n",
    "Nodes and Edges\n",
    "---------------\n",
    "\n",
    "We could use exactly the same class to represent nodes as the class we used for trees.  However previously, our `Node` class could contain only two edges.  In general, for both trees and graphs, a node could have many connections to other nodes.  We could store these connections as a list for each node.  This method of storing a graph is called an [adjacency list][adj-list].\n",
    "\n",
    "  [adj-list]: https://en.wikipedia.org/wiki/Adjacency_list"
   ]
  },
  {
   "cell_type": "code",
   "execution_count": 2,
   "metadata": {
    "collapsed": true
   },
   "outputs": [],
   "source": [
    "class Node:\n",
    "    def __init__(self, data):\n",
    "        self.connections = list()\n",
    "        self.data = data\n",
    "        \n",
    "    def addConnection(self, connection):\n",
    "        self.connections.append(connection)"
   ]
  },
  {
   "cell_type": "markdown",
   "metadata": {},
   "source": [
    "Nodes can have attributes.  In our work with trees previously the nodes had a \"data\" component that we used to store its name (\"labrador\", or \"dog\", for example).  It's possible that a node may have a number of attributes.  For example, if a node represented a city, then it could have the name of the city and it's latitude and longitude as attributes.\n",
    "\n",
    "Further, it's possible that edges can have attributes too.  For example, if we're able to fly from Auckland to Wellington, an edge may be used to represent that flight and one possible attribute could be the price.\n"
   ]
  },
  {
   "cell_type": "code",
   "execution_count": 3,
   "metadata": {
    "collapsed": true
   },
   "outputs": [],
   "source": [
    "class Edge:\n",
    "    def __init__(self, destination, data=None):\n",
    "        self.destination = destination\n",
    "        self.data = data"
   ]
  },
  {
   "cell_type": "markdown",
   "metadata": {},
   "source": [
    "\n",
    "We will load an example graph by reading some data in CSV format (Python contains a CSV reader in the module [`csv`][csv]).  There is a file called `romania.txt` that contains rows such as\n",
    "<pre>\n",
    "  Arad,Zerind,75\n",
    "</pre>\n",
    "meaning that there is a road from Arad to Zerind that is 75 kilometers long.  So here we can see that our nodes (cities) will have names as attributes, and the edges (roads) will have distances as attributes.  You could imagine that because of a one-way tunnel, for example, it may not be possible to use a road in both directions.  To represent a two-way road, we could store an edge from, say, Arad to Zerind, and also from Zerind to Arad.\n",
    "\n",
    "  [csv]: https://docs.python.org/3.5/library/csv.html"
   ]
  },
  {
   "cell_type": "code",
   "execution_count": 4,
   "metadata": {
    "collapsed": false
   },
   "outputs": [
    {
     "name": "stdout",
     "output_type": "stream",
     "text": [
      "Number of cities: 20\n"
     ]
    }
   ],
   "source": [
    "import csv\n",
    "\n",
    "# Create a dictionary, which maps city names to their Node instances\n",
    "cities = dict()\n",
    "\n",
    "def connect(city1, city2, length):\n",
    "    '''Connects two cities together (assumes a two-way road).'''\n",
    "    city1.addConnection(Edge(city2, length))\n",
    "    city2.addConnection(Edge(city1, length))\n",
    "\n",
    "def getCity(name):\n",
    "    '''Get city if it already exists, otherwise create the city, add it to the list of cities, \n",
    "    and return the new city.'''\n",
    "    if name in cities:\n",
    "        return cities[name]\n",
    "    else:\n",
    "        city = Node(name)\n",
    "        cities[name] = city\n",
    "        return city\n",
    "\n",
    "def read(filename):\n",
    "    '''Read a csv file with (city1, city2, road length) rows.'''\n",
    "    with open(filename, 'r') as csvfile:\n",
    "        csvreader = csv.reader(csvfile)\n",
    "        for row in csvreader:\n",
    "            name1 = row[0]\n",
    "            name2 = row[1]\n",
    "            length = row[2]\n",
    "            city1 = getCity(name1)\n",
    "            city2 = getCity(name2)\n",
    "            connect(city1, city2, length)\n",
    "            \n",
    "# Read our example graph of Romania's cities and roads\n",
    "read(\"romania.txt\")\n",
    "\n",
    "# How many cities did we read?\n",
    "print(\"Number of cities: \"+str(len(cities)))"
   ]
  },
  {
   "cell_type": "markdown",
   "metadata": {},
   "source": [
    "We now have a graph of the simplified roads in part of Romania.  The data came from figure 2, page 70, of AIMA.\n",
    "\n",
    "  ![Image of simplified roads of Romania](romania.png)\n",
    "  \n",
    "We will re-use the code above, which can be found in [romania.py](romania.py).\n",
    "  "
   ]
  },
  {
   "cell_type": "code",
   "execution_count": 5,
   "metadata": {
    "collapsed": true
   },
   "outputs": [],
   "source": [
    "from collections import deque\n",
    "\n",
    "def breadthFirstGraphTraversal(start):\n",
    "    # Initialse a queue containing the start node; these nodes represent the \"frontier\" of our search\n",
    "    frontier = deque([start])\n",
    "    \n",
    "    # Initialise an explored set; we haven't explored anything so far\n",
    "    explored = set()\n",
    "    \n",
    "    # Go through the frontier queue until it's empty\n",
    "    while frontier:\n",
    "        # Get the node at the front of the queue (the left side) and process it\n",
    "        node = frontier.popleft()\n",
    "        print(\"Visiting node \"+node.data)\n",
    "        \n",
    "        # Add the node to the explored set\n",
    "        explored.add(node)\n",
    "        \n",
    "        # Add the node's children (from left to right) to the end of the queue (the right side)\n",
    "        for road in node.connections:\n",
    "            destination = road.destination\n",
    "            if destination not in explored and destination not in frontier:\n",
    "                frontier.append(road.destination)"
   ]
  },
  {
   "cell_type": "code",
   "execution_count": 6,
   "metadata": {
    "collapsed": false
   },
   "outputs": [
    {
     "name": "stdout",
     "output_type": "stream",
     "text": [
      "Visiting node Arad\n",
      "Visiting node Zerind\n",
      "Visiting node Timisoara\n",
      "Visiting node Sibiu\n",
      "Visiting node Oradea\n",
      "Visiting node Lugoj\n",
      "Visiting node Fagaras\n",
      "Visiting node Rimnicu Vilcea\n",
      "Visiting node Mehadia\n",
      "Visiting node Bucharest\n",
      "Visiting node Pitesti\n",
      "Visiting node Craiova\n",
      "Visiting node Drobeta\n",
      "Visiting node Giurgiu\n",
      "Visiting node Urziceni\n",
      "Visiting node Hirsova\n",
      "Visiting node Vaslui\n",
      "Visiting node Eforie\n",
      "Visiting node Iasi\n",
      "Visiting node Neamt\n"
     ]
    }
   ],
   "source": [
    "arad = cities[\"Arad\"]\n",
    "breadthFirstGraphTraversal(arad)"
   ]
  },
  {
   "cell_type": "markdown",
   "metadata": {},
   "source": [
    "**Excercises**\n",
    "- Implement `depthFirstGraphTraversal()`.\n",
    "- How would you modify the traversal functions in order to report the distances from the start city to the city being visited?\n",
    "- Compare adjacency lists and adjacency matrices.  When would you use one over the other?"
   ]
  },
  {
   "cell_type": "code",
   "execution_count": null,
   "metadata": {
    "collapsed": true
   },
   "outputs": [],
   "source": []
  }
 ],
 "metadata": {
  "kernelspec": {
   "display_name": "Python 3",
   "language": "python",
   "name": "python3"
  },
  "language_info": {
   "codemirror_mode": {
    "name": "ipython",
    "version": 3
   },
   "file_extension": ".py",
   "mimetype": "text/x-python",
   "name": "python",
   "nbconvert_exporter": "python",
   "pygments_lexer": "ipython3",
   "version": "3.5.1"
  }
 },
 "nbformat": 4,
 "nbformat_minor": 0
}
